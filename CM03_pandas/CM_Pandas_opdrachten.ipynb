{
 "cells": [
  {
   "cell_type": "markdown",
   "metadata": {},
   "source": [
    "# CM3 Pandas Opdrachten\n",
    "\n",
    "In dit notebook vind je de volgende opdrachten\n",
    "- [Opdracht 1 - Series](#Opdracht-1-Series)\n",
    "- [Opdracht 2 - Dataframe](#Opdracht-2-Dataframe)\n",
    "- [Opdracht 3 - Cijfers](#Opdracht-3-Cijfers)\n",
    "- [Opdracht 4 - datetime](#Opdracht-4-datetime)\n"
   ]
  },
  {
   "cell_type": "markdown",
   "metadata": {},
   "source": [
    "## Opdracht 1 Series"
   ]
  },
  {
   "cell_type": "code",
   "execution_count": 1,
   "metadata": {},
   "outputs": [],
   "source": [
    "import pandas as pd\n",
    "import numpy as np"
   ]
  },
  {
   "cell_type": "code",
   "execution_count": 2,
   "metadata": {},
   "outputs": [
    {
     "data": {
      "text/plain": [
       "DS     7.0\n",
       "IAC    6.5\n",
       "NET    9.0\n",
       "dtype: float64"
      ]
     },
     "execution_count": 2,
     "metadata": {},
     "output_type": "execute_result"
    }
   ],
   "source": [
    "#values = [7.0, 6.5, 9.0, 8.0]\n",
    "#index = [ 'DS', 'IAC', 'NET', 'IAC']\n",
    "values = [7.0, 6.5, 9.0]\n",
    "index = [ 'DS', 'IAC', 'NET']\n",
    "cijfers = pd.Series(values, index=index)\n",
    "cijfers"
   ]
  },
  {
   "cell_type": "markdown",
   "metadata": {},
   "source": [
    "- Haal het cijfer 6.5 op uit de Series door middel van:\n",
    "  1. de expliciete key methode\n",
    "  2. de impliciete key methode\n",
    "  3. rechtstreeks met de expliciete key\n",
    "  4. rechtstreeks met de impliciete key"
   ]
  },
  {
   "cell_type": "code",
   "execution_count": null,
   "metadata": {
    "tags": [
     "student"
    ]
   },
   "outputs": [],
   "source": []
  },
  {
   "cell_type": "markdown",
   "metadata": {},
   "source": [
    "- Retourneer de cijfers van de laatste twee vakken uit de Series."
   ]
  },
  {
   "cell_type": "code",
   "execution_count": 5,
   "metadata": {
    "tags": [
     "student"
    ]
   },
   "outputs": [
    {
     "data": {
      "text/plain": [
       "IAC    6.5\n",
       "NET    9.0\n",
       "dtype: float64"
      ]
     },
     "execution_count": 5,
     "metadata": {},
     "output_type": "execute_result"
    }
   ],
   "source": [
    "cijfers[[\"IAC\", \"NET\"]]"
   ]
  },
  {
   "cell_type": "markdown",
   "metadata": {},
   "source": [
    "- Bepaal gemiddelde, mediaan, minimum en maximum van de cijfers."
   ]
  },
  {
   "cell_type": "code",
   "execution_count": 15,
   "metadata": {
    "tags": [
     "student"
    ]
   },
   "outputs": [
    {
     "name": "stdout",
     "output_type": "stream",
     "text": [
      "7.5\n",
      "7.0\n",
      "6.5\n",
      "9.0\n"
     ]
    }
   ],
   "source": [
    "print(cijfers.mean())\n",
    "print(cijfers.median())\n",
    "print(cijfers.min())\n",
    "print(cijfers.max())"
   ]
  },
  {
   "cell_type": "markdown",
   "metadata": {},
   "source": [
    "## Opdracht 2 Dataframe "
   ]
  },
  {
   "cell_type": "code",
   "execution_count": 68,
   "metadata": {},
   "outputs": [
    {
     "data": {
      "text/html": [
       "<div>\n",
       "<style scoped>\n",
       "    .dataframe tbody tr th:only-of-type {\n",
       "        vertical-align: middle;\n",
       "    }\n",
       "\n",
       "    .dataframe tbody tr th {\n",
       "        vertical-align: top;\n",
       "    }\n",
       "\n",
       "    .dataframe thead th {\n",
       "        text-align: right;\n",
       "    }\n",
       "</style>\n",
       "<table border=\"1\" class=\"dataframe\">\n",
       "  <thead>\n",
       "    <tr style=\"text-align: right;\">\n",
       "      <th></th>\n",
       "      <th>Nummer</th>\n",
       "      <th>Naam</th>\n",
       "      <th>Tentamen</th>\n",
       "      <th>Opdracht</th>\n",
       "    </tr>\n",
       "  </thead>\n",
       "  <tbody>\n",
       "    <tr>\n",
       "      <th>0</th>\n",
       "      <td>s1</td>\n",
       "      <td>Joop</td>\n",
       "      <td>99.9</td>\n",
       "      <td>7.5</td>\n",
       "    </tr>\n",
       "    <tr>\n",
       "      <th>1</th>\n",
       "      <td>s2</td>\n",
       "      <td>Piet</td>\n",
       "      <td>8.0</td>\n",
       "      <td>7.0</td>\n",
       "    </tr>\n",
       "    <tr>\n",
       "      <th>2</th>\n",
       "      <td>None</td>\n",
       "      <td>Fout</td>\n",
       "      <td>99.9</td>\n",
       "      <td>99.9</td>\n",
       "    </tr>\n",
       "    <tr>\n",
       "      <th>3</th>\n",
       "      <td>s3</td>\n",
       "      <td>Kees</td>\n",
       "      <td>4.0</td>\n",
       "      <td>6.0</td>\n",
       "    </tr>\n",
       "  </tbody>\n",
       "</table>\n",
       "</div>"
      ],
      "text/plain": [
       "  Nummer  Naam  Tentamen  Opdracht\n",
       "0     s1  Joop      99.9       7.5\n",
       "1     s2  Piet       8.0       7.0\n",
       "2   None  Fout      99.9      99.9\n",
       "3     s3  Kees       4.0       6.0"
      ]
     },
     "execution_count": 68,
     "metadata": {},
     "output_type": "execute_result"
    }
   ],
   "source": [
    "student1 = pd.Series({'Nummer':'s1', 'Naam':'Joop', 'Tentamen':99.9, 'Opdracht': 7.5})\n",
    "student2 = pd.Series({'Nummer':'s2', 'Naam':'Piet', 'Tentamen':8.0, 'Opdracht': 7.0})\n",
    "student3 = pd.Series({'Nummer': None, 'Naam':'Fout', 'Tentamen':99.9, 'Opdracht': 99.9})\n",
    "student4 = pd.Series({'Nummer':'s3', 'Naam':'Kees', 'Tentamen':4.0, 'Opdracht': 6.0})\n",
    "studenten = pd.DataFrame([student1, student2,student3, student4])\n",
    "studenten"
   ]
  },
  {
   "cell_type": "markdown",
   "metadata": {},
   "source": [
    "- Bepaal het totaal aantal niet-bestaande waarden."
   ]
  },
  {
   "cell_type": "code",
   "execution_count": 69,
   "metadata": {
    "tags": [
     "student"
    ]
   },
   "outputs": [
    {
     "data": {
      "text/plain": [
       "Nummer      1\n",
       "Naam        0\n",
       "Tentamen    0\n",
       "Opdracht    0\n",
       "dtype: int64"
      ]
     },
     "execution_count": 69,
     "metadata": {},
     "output_type": "execute_result"
    }
   ],
   "source": [
    "studenten.isna().sum()"
   ]
  },
  {
   "cell_type": "markdown",
   "metadata": {},
   "source": [
    "- Zet de opdracht- en tentamencijfers met waarde 99.9 om naar NaN waarde"
   ]
  },
  {
   "cell_type": "code",
   "execution_count": 70,
   "metadata": {
    "tags": [
     "student"
    ]
   },
   "outputs": [
    {
     "data": {
      "text/html": [
       "<div>\n",
       "<style scoped>\n",
       "    .dataframe tbody tr th:only-of-type {\n",
       "        vertical-align: middle;\n",
       "    }\n",
       "\n",
       "    .dataframe tbody tr th {\n",
       "        vertical-align: top;\n",
       "    }\n",
       "\n",
       "    .dataframe thead th {\n",
       "        text-align: right;\n",
       "    }\n",
       "</style>\n",
       "<table border=\"1\" class=\"dataframe\">\n",
       "  <thead>\n",
       "    <tr style=\"text-align: right;\">\n",
       "      <th></th>\n",
       "      <th>Nummer</th>\n",
       "      <th>Naam</th>\n",
       "      <th>Tentamen</th>\n",
       "      <th>Opdracht</th>\n",
       "    </tr>\n",
       "  </thead>\n",
       "  <tbody>\n",
       "    <tr>\n",
       "      <th>0</th>\n",
       "      <td>s1</td>\n",
       "      <td>Joop</td>\n",
       "      <td>NaN</td>\n",
       "      <td>7.5</td>\n",
       "    </tr>\n",
       "    <tr>\n",
       "      <th>1</th>\n",
       "      <td>s2</td>\n",
       "      <td>Piet</td>\n",
       "      <td>8.0</td>\n",
       "      <td>7.0</td>\n",
       "    </tr>\n",
       "    <tr>\n",
       "      <th>2</th>\n",
       "      <td>None</td>\n",
       "      <td>Fout</td>\n",
       "      <td>NaN</td>\n",
       "      <td>NaN</td>\n",
       "    </tr>\n",
       "    <tr>\n",
       "      <th>3</th>\n",
       "      <td>s3</td>\n",
       "      <td>Kees</td>\n",
       "      <td>4.0</td>\n",
       "      <td>6.0</td>\n",
       "    </tr>\n",
       "  </tbody>\n",
       "</table>\n",
       "</div>"
      ],
      "text/plain": [
       "  Nummer  Naam  Tentamen  Opdracht\n",
       "0     s1  Joop       NaN       7.5\n",
       "1     s2  Piet       8.0       7.0\n",
       "2   None  Fout       NaN       NaN\n",
       "3     s3  Kees       4.0       6.0"
      ]
     },
     "execution_count": 70,
     "metadata": {},
     "output_type": "execute_result"
    }
   ],
   "source": [
    "studenten.replace(99.9, np.nan, inplace=True)\n",
    "studenten"
   ]
  },
  {
   "cell_type": "markdown",
   "metadata": {},
   "source": [
    "- Haal de missing values uit het DataFrame"
   ]
  },
  {
   "cell_type": "code",
   "execution_count": 71,
   "metadata": {
    "tags": [
     "student"
    ]
   },
   "outputs": [
    {
     "data": {
      "text/html": [
       "<div>\n",
       "<style scoped>\n",
       "    .dataframe tbody tr th:only-of-type {\n",
       "        vertical-align: middle;\n",
       "    }\n",
       "\n",
       "    .dataframe tbody tr th {\n",
       "        vertical-align: top;\n",
       "    }\n",
       "\n",
       "    .dataframe thead th {\n",
       "        text-align: right;\n",
       "    }\n",
       "</style>\n",
       "<table border=\"1\" class=\"dataframe\">\n",
       "  <thead>\n",
       "    <tr style=\"text-align: right;\">\n",
       "      <th></th>\n",
       "      <th>Nummer</th>\n",
       "      <th>Naam</th>\n",
       "      <th>Tentamen</th>\n",
       "      <th>Opdracht</th>\n",
       "    </tr>\n",
       "  </thead>\n",
       "  <tbody>\n",
       "    <tr>\n",
       "      <th>1</th>\n",
       "      <td>s2</td>\n",
       "      <td>Piet</td>\n",
       "      <td>8.0</td>\n",
       "      <td>7.0</td>\n",
       "    </tr>\n",
       "    <tr>\n",
       "      <th>3</th>\n",
       "      <td>s3</td>\n",
       "      <td>Kees</td>\n",
       "      <td>4.0</td>\n",
       "      <td>6.0</td>\n",
       "    </tr>\n",
       "  </tbody>\n",
       "</table>\n",
       "</div>"
      ],
      "text/plain": [
       "  Nummer  Naam  Tentamen  Opdracht\n",
       "1     s2  Piet       8.0       7.0\n",
       "3     s3  Kees       4.0       6.0"
      ]
     },
     "execution_count": 71,
     "metadata": {},
     "output_type": "execute_result"
    }
   ],
   "source": [
    "studenten.dropna(inplace=True)\n",
    "studenten"
   ]
  },
  {
   "cell_type": "markdown",
   "metadata": {},
   "source": [
    "- Zet `Nummer` als index."
   ]
  },
  {
   "cell_type": "code",
   "execution_count": 72,
   "metadata": {
    "tags": [
     "student"
    ]
   },
   "outputs": [
    {
     "data": {
      "text/html": [
       "<div>\n",
       "<style scoped>\n",
       "    .dataframe tbody tr th:only-of-type {\n",
       "        vertical-align: middle;\n",
       "    }\n",
       "\n",
       "    .dataframe tbody tr th {\n",
       "        vertical-align: top;\n",
       "    }\n",
       "\n",
       "    .dataframe thead th {\n",
       "        text-align: right;\n",
       "    }\n",
       "</style>\n",
       "<table border=\"1\" class=\"dataframe\">\n",
       "  <thead>\n",
       "    <tr style=\"text-align: right;\">\n",
       "      <th></th>\n",
       "      <th>Naam</th>\n",
       "      <th>Tentamen</th>\n",
       "      <th>Opdracht</th>\n",
       "    </tr>\n",
       "    <tr>\n",
       "      <th>Nummer</th>\n",
       "      <th></th>\n",
       "      <th></th>\n",
       "      <th></th>\n",
       "    </tr>\n",
       "  </thead>\n",
       "  <tbody>\n",
       "    <tr>\n",
       "      <th>s2</th>\n",
       "      <td>Piet</td>\n",
       "      <td>8.0</td>\n",
       "      <td>7.0</td>\n",
       "    </tr>\n",
       "    <tr>\n",
       "      <th>s3</th>\n",
       "      <td>Kees</td>\n",
       "      <td>4.0</td>\n",
       "      <td>6.0</td>\n",
       "    </tr>\n",
       "  </tbody>\n",
       "</table>\n",
       "</div>"
      ],
      "text/plain": [
       "        Naam  Tentamen  Opdracht\n",
       "Nummer                          \n",
       "s2      Piet       8.0       7.0\n",
       "s3      Kees       4.0       6.0"
      ]
     },
     "execution_count": 72,
     "metadata": {},
     "output_type": "execute_result"
    }
   ],
   "source": [
    "studenten.set_index(\"Nummer\")"
   ]
  },
  {
   "cell_type": "markdown",
   "metadata": {},
   "source": [
    "- Het eindcijfer van het vak is 70% tentamen en 30% opdracht; voeg dit als kolom `Eindcijfer` toe"
   ]
  },
  {
   "cell_type": "code",
   "execution_count": 73,
   "metadata": {
    "tags": [
     "student"
    ]
   },
   "outputs": [
    {
     "data": {
      "text/html": [
       "<div>\n",
       "<style scoped>\n",
       "    .dataframe tbody tr th:only-of-type {\n",
       "        vertical-align: middle;\n",
       "    }\n",
       "\n",
       "    .dataframe tbody tr th {\n",
       "        vertical-align: top;\n",
       "    }\n",
       "\n",
       "    .dataframe thead th {\n",
       "        text-align: right;\n",
       "    }\n",
       "</style>\n",
       "<table border=\"1\" class=\"dataframe\">\n",
       "  <thead>\n",
       "    <tr style=\"text-align: right;\">\n",
       "      <th></th>\n",
       "      <th>Nummer</th>\n",
       "      <th>Naam</th>\n",
       "      <th>Tentamen</th>\n",
       "      <th>Opdracht</th>\n",
       "      <th>Eindcijfer</th>\n",
       "    </tr>\n",
       "  </thead>\n",
       "  <tbody>\n",
       "    <tr>\n",
       "      <th>1</th>\n",
       "      <td>s2</td>\n",
       "      <td>Piet</td>\n",
       "      <td>8.0</td>\n",
       "      <td>7.0</td>\n",
       "      <td>7.7</td>\n",
       "    </tr>\n",
       "    <tr>\n",
       "      <th>3</th>\n",
       "      <td>s3</td>\n",
       "      <td>Kees</td>\n",
       "      <td>4.0</td>\n",
       "      <td>6.0</td>\n",
       "      <td>4.6</td>\n",
       "    </tr>\n",
       "  </tbody>\n",
       "</table>\n",
       "</div>"
      ],
      "text/plain": [
       "  Nummer  Naam  Tentamen  Opdracht  Eindcijfer\n",
       "1     s2  Piet       8.0       7.0         7.7\n",
       "3     s3  Kees       4.0       6.0         4.6"
      ]
     },
     "execution_count": 73,
     "metadata": {},
     "output_type": "execute_result"
    }
   ],
   "source": [
    "studenten[\"Eindcijfer\"] = studenten[\"Tentamen\"] * .7 + studenten[\"Opdracht\"] * .3\n",
    "studenten"
   ]
  },
  {
   "cell_type": "markdown",
   "metadata": {},
   "source": [
    "- Bepaal het gemiddelde eindcijfer"
   ]
  },
  {
   "cell_type": "code",
   "execution_count": 74,
   "metadata": {
    "tags": [
     "student"
    ]
   },
   "outputs": [
    {
     "data": {
      "text/plain": [
       "np.float64(6.1499999999999995)"
      ]
     },
     "execution_count": 74,
     "metadata": {},
     "output_type": "execute_result"
    }
   ],
   "source": [
    "studenten[\"Eindcijfer\"].mean()"
   ]
  },
  {
   "cell_type": "markdown",
   "metadata": {},
   "source": [
    "- Wat geeft `studenten.describe()` weer?"
   ]
  },
  {
   "cell_type": "code",
   "execution_count": 76,
   "metadata": {
    "tags": [
     "student"
    ]
   },
   "outputs": [
    {
     "data": {
      "text/html": [
       "<div>\n",
       "<style scoped>\n",
       "    .dataframe tbody tr th:only-of-type {\n",
       "        vertical-align: middle;\n",
       "    }\n",
       "\n",
       "    .dataframe tbody tr th {\n",
       "        vertical-align: top;\n",
       "    }\n",
       "\n",
       "    .dataframe thead th {\n",
       "        text-align: right;\n",
       "    }\n",
       "</style>\n",
       "<table border=\"1\" class=\"dataframe\">\n",
       "  <thead>\n",
       "    <tr style=\"text-align: right;\">\n",
       "      <th></th>\n",
       "      <th>Tentamen</th>\n",
       "      <th>Opdracht</th>\n",
       "      <th>Eindcijfer</th>\n",
       "    </tr>\n",
       "  </thead>\n",
       "  <tbody>\n",
       "    <tr>\n",
       "      <th>count</th>\n",
       "      <td>2.000000</td>\n",
       "      <td>2.000000</td>\n",
       "      <td>2.000000</td>\n",
       "    </tr>\n",
       "    <tr>\n",
       "      <th>mean</th>\n",
       "      <td>6.000000</td>\n",
       "      <td>6.500000</td>\n",
       "      <td>6.150000</td>\n",
       "    </tr>\n",
       "    <tr>\n",
       "      <th>std</th>\n",
       "      <td>2.828427</td>\n",
       "      <td>0.707107</td>\n",
       "      <td>2.192031</td>\n",
       "    </tr>\n",
       "    <tr>\n",
       "      <th>min</th>\n",
       "      <td>4.000000</td>\n",
       "      <td>6.000000</td>\n",
       "      <td>4.600000</td>\n",
       "    </tr>\n",
       "    <tr>\n",
       "      <th>25%</th>\n",
       "      <td>5.000000</td>\n",
       "      <td>6.250000</td>\n",
       "      <td>5.375000</td>\n",
       "    </tr>\n",
       "    <tr>\n",
       "      <th>50%</th>\n",
       "      <td>6.000000</td>\n",
       "      <td>6.500000</td>\n",
       "      <td>6.150000</td>\n",
       "    </tr>\n",
       "    <tr>\n",
       "      <th>75%</th>\n",
       "      <td>7.000000</td>\n",
       "      <td>6.750000</td>\n",
       "      <td>6.925000</td>\n",
       "    </tr>\n",
       "    <tr>\n",
       "      <th>max</th>\n",
       "      <td>8.000000</td>\n",
       "      <td>7.000000</td>\n",
       "      <td>7.700000</td>\n",
       "    </tr>\n",
       "  </tbody>\n",
       "</table>\n",
       "</div>"
      ],
      "text/plain": [
       "       Tentamen  Opdracht  Eindcijfer\n",
       "count  2.000000  2.000000    2.000000\n",
       "mean   6.000000  6.500000    6.150000\n",
       "std    2.828427  0.707107    2.192031\n",
       "min    4.000000  6.000000    4.600000\n",
       "25%    5.000000  6.250000    5.375000\n",
       "50%    6.000000  6.500000    6.150000\n",
       "75%    7.000000  6.750000    6.925000\n",
       "max    8.000000  7.000000    7.700000"
      ]
     },
     "execution_count": 76,
     "metadata": {},
     "output_type": "execute_result"
    }
   ],
   "source": [
    "# Dit geeft data weer over de df. 50% is de mediaan.\n",
    "studenten.describe()"
   ]
  },
  {
   "cell_type": "markdown",
   "metadata": {},
   "source": [
    "- Selecteer alle namen en cijfers van de studenten met een voldoende als eindcijfer."
   ]
  },
  {
   "cell_type": "code",
   "execution_count": 80,
   "metadata": {
    "tags": [
     "student"
    ]
   },
   "outputs": [
    {
     "data": {
      "text/html": [
       "<div>\n",
       "<style scoped>\n",
       "    .dataframe tbody tr th:only-of-type {\n",
       "        vertical-align: middle;\n",
       "    }\n",
       "\n",
       "    .dataframe tbody tr th {\n",
       "        vertical-align: top;\n",
       "    }\n",
       "\n",
       "    .dataframe thead th {\n",
       "        text-align: right;\n",
       "    }\n",
       "</style>\n",
       "<table border=\"1\" class=\"dataframe\">\n",
       "  <thead>\n",
       "    <tr style=\"text-align: right;\">\n",
       "      <th></th>\n",
       "      <th>Naam</th>\n",
       "      <th>Tentamen</th>\n",
       "      <th>Opdracht</th>\n",
       "      <th>Eindcijfer</th>\n",
       "    </tr>\n",
       "  </thead>\n",
       "  <tbody>\n",
       "    <tr>\n",
       "      <th>1</th>\n",
       "      <td>Piet</td>\n",
       "      <td>8.0</td>\n",
       "      <td>7.0</td>\n",
       "      <td>7.7</td>\n",
       "    </tr>\n",
       "  </tbody>\n",
       "</table>\n",
       "</div>"
      ],
      "text/plain": [
       "   Naam  Tentamen  Opdracht  Eindcijfer\n",
       "1  Piet       8.0       7.0         7.7"
      ]
     },
     "execution_count": 80,
     "metadata": {},
     "output_type": "execute_result"
    }
   ],
   "source": [
    "studenten[studenten[\"Eindcijfer\"] >= 5.5][[\"Naam\", \"Tentamen\", \"Opdracht\", \"Eindcijfer\"]]"
   ]
  },
  {
   "cell_type": "markdown",
   "metadata": {},
   "source": [
    "## Opdracht 3 Cijfers\n",
    "\n",
    "Numpy arrays kunnen alleen uniforme waarden bevatten. Pandas arrays kunnen juist meer bevatten. We doen de opdracht in numpy nu in pandas. Tip: maak gebruik van de cheat sheets!\n",
    "\n",
    "Aanvullende bron:\n",
    "-\thttp://nbviewer.jupyter.org/github/justmarkham/pandas-videos/blob/master/pandas.ipynb "
   ]
  },
  {
   "cell_type": "markdown",
   "metadata": {},
   "source": [
    "De blokcoördinator D.O. Cent van blok A, SIE-V2  wil graag de cijfers analyseren en verwerken. het blok bestaat uit 3 vakken, die door 10 studenten gevolgd zijn. Analyse omvat o.a. het bepalen van gemiddelde cijfer, het aantal voldoendes en cursusrendement. De verwerking bestaat uit het corrigeren van de cijfers. \n",
    "\n",
    "\n",
    "In `blokAcijfers.txt` staan de cijfers per vak (naast elkaar staan de vakken, onder elkaar de studenten):\n",
    "\n",
    "vak1 | vak2 | vak3\n",
    "----|-------|------\n",
    "6.5 | 7.3   | 6.4\n",
    "8.0 | 8.0\t| 8.5\n",
    "3.2\t| 4.0\t| 5.0\n",
    "7.9\t| 7.1\t| 3.5\n",
    "7.3\t| 7.8\t| 8.0\n",
    "8.6\t| 8.0\t| 9.0\n",
    "4.0\t| 6.0\t| 5.5\n",
    "7.3\t| 7.8\t| 7.8\n",
    "4.5\t| 5.6\t| 7.7\n",
    "5.0\t| 7.0\t| 7.2\n",
    "\n",
    "In `blokAStudenten.csv` staan de studentgegevens:\n",
    "\n",
    "\"Studentnr\"|\"Naam\"|\"Vooropleiding\"\n",
    "--|--|--\n",
    "1502000|\"Jan Jansen\"|\"HAVO\"\n",
    "1501677|\"Ali ElMoune\"|\"MBO\"\n",
    "1503190|\"Bert de Graaf\"|\"HAVO\"\n",
    "1506700|\"Koos Alberts\"|\"MBO\"\n",
    "1504503|\"Willie Napoli\"|\"MBO\"\n",
    "1507878|\"Jorrit Beeks\"|\"VWO\"\n",
    "1502507|\"Frits Wielenga\"|\"HAVO\"\n",
    "1503684|\"Cornee Nijsten\"|\"VWO\"\n",
    "1503831|\"Sabine Honing\"|\"HAVO\"\n",
    "1506001|\"George Belfore\"|\"HAVO\""
   ]
  },
  {
   "cell_type": "code",
   "execution_count": 181,
   "metadata": {},
   "outputs": [],
   "source": [
    "# Deze imports zijn nodig voor de opdracht.\n",
    "import pandas as pd\n",
    "import numpy as np"
   ]
  },
  {
   "cell_type": "markdown",
   "metadata": {},
   "source": [
    "De docent wil de gegevens in een Jupyter Notebook verwerken.\n",
    "-\tLees tekstbestand: blokAcijfers.txt in, in een dataframe `cijfers`.\n",
    "-\tLaat zien dat de gegevens goed ingelezen zijn.\n",
    "-\tWijzig de kolomnrs in de vaknamen: vakken = ['RAD','ANA', CBA'].\n",
    "-\tToon de dataframe attributen.\n",
    "-\tToon de index gegevens."
   ]
  },
  {
   "cell_type": "code",
   "execution_count": 182,
   "metadata": {
    "tags": [
     "student"
    ]
   },
   "outputs": [],
   "source": [
    "cijfers = pd.read_csv(\"blokAcijfers.txt\", delimiter=\"\\t\")"
   ]
  },
  {
   "cell_type": "code",
   "execution_count": 183,
   "metadata": {},
   "outputs": [
    {
     "data": {
      "text/html": [
       "<div>\n",
       "<style scoped>\n",
       "    .dataframe tbody tr th:only-of-type {\n",
       "        vertical-align: middle;\n",
       "    }\n",
       "\n",
       "    .dataframe tbody tr th {\n",
       "        vertical-align: top;\n",
       "    }\n",
       "\n",
       "    .dataframe thead th {\n",
       "        text-align: right;\n",
       "    }\n",
       "</style>\n",
       "<table border=\"1\" class=\"dataframe\">\n",
       "  <thead>\n",
       "    <tr style=\"text-align: right;\">\n",
       "      <th></th>\n",
       "      <th>RAD</th>\n",
       "      <th>ANA</th>\n",
       "      <th>CBA</th>\n",
       "    </tr>\n",
       "  </thead>\n",
       "  <tbody>\n",
       "    <tr>\n",
       "      <th>0</th>\n",
       "      <td>8.0</td>\n",
       "      <td>8.0</td>\n",
       "      <td>8.5</td>\n",
       "    </tr>\n",
       "    <tr>\n",
       "      <th>1</th>\n",
       "      <td>3.2</td>\n",
       "      <td>4.0</td>\n",
       "      <td>5.0</td>\n",
       "    </tr>\n",
       "    <tr>\n",
       "      <th>2</th>\n",
       "      <td>7.9</td>\n",
       "      <td>7.1</td>\n",
       "      <td>3.5</td>\n",
       "    </tr>\n",
       "    <tr>\n",
       "      <th>3</th>\n",
       "      <td>7.3</td>\n",
       "      <td>7.8</td>\n",
       "      <td>8.0</td>\n",
       "    </tr>\n",
       "    <tr>\n",
       "      <th>4</th>\n",
       "      <td>8.6</td>\n",
       "      <td>8.0</td>\n",
       "      <td>9.0</td>\n",
       "    </tr>\n",
       "    <tr>\n",
       "      <th>5</th>\n",
       "      <td>4.0</td>\n",
       "      <td>6.0</td>\n",
       "      <td>5.5</td>\n",
       "    </tr>\n",
       "    <tr>\n",
       "      <th>6</th>\n",
       "      <td>7.3</td>\n",
       "      <td>7.8</td>\n",
       "      <td>7.8</td>\n",
       "    </tr>\n",
       "    <tr>\n",
       "      <th>7</th>\n",
       "      <td>4.5</td>\n",
       "      <td>5.6</td>\n",
       "      <td>7.7</td>\n",
       "    </tr>\n",
       "    <tr>\n",
       "      <th>8</th>\n",
       "      <td>5.0</td>\n",
       "      <td>7.0</td>\n",
       "      <td>7.2</td>\n",
       "    </tr>\n",
       "  </tbody>\n",
       "</table>\n",
       "</div>"
      ],
      "text/plain": [
       "   RAD  ANA  CBA\n",
       "0  8.0  8.0  8.5\n",
       "1  3.2  4.0  5.0\n",
       "2  7.9  7.1  3.5\n",
       "3  7.3  7.8  8.0\n",
       "4  8.6  8.0  9.0\n",
       "5  4.0  6.0  5.5\n",
       "6  7.3  7.8  7.8\n",
       "7  4.5  5.6  7.7\n",
       "8  5.0  7.0  7.2"
      ]
     },
     "execution_count": 183,
     "metadata": {},
     "output_type": "execute_result"
    }
   ],
   "source": [
    "cijfers.columns = ['RAD','ANA', 'CBA']\n",
    "cijfers"
   ]
  },
  {
   "cell_type": "markdown",
   "metadata": {},
   "source": [
    "De docent ziet dat er 2 cijfers fout zijn en wil deze corrigeren (NB. Elke regel heeft een numeriek index gelijk aan het regelnummer.)\n",
    "-\t Wijzig de volgende cijfers\t\t\t\t\t\t\t\n",
    "    *\tvak-2, student-3  cijfer 4.0 moet 4.3 worden.\n",
    "    *\tvak-1, student-10, cijfer 5.0 moet 4.8 worden."
   ]
  },
  {
   "cell_type": "code",
   "execution_count": 184,
   "metadata": {
    "tags": [
     "student"
    ]
   },
   "outputs": [
    {
     "data": {
      "text/html": [
       "<div>\n",
       "<style scoped>\n",
       "    .dataframe tbody tr th:only-of-type {\n",
       "        vertical-align: middle;\n",
       "    }\n",
       "\n",
       "    .dataframe tbody tr th {\n",
       "        vertical-align: top;\n",
       "    }\n",
       "\n",
       "    .dataframe thead th {\n",
       "        text-align: right;\n",
       "    }\n",
       "</style>\n",
       "<table border=\"1\" class=\"dataframe\">\n",
       "  <thead>\n",
       "    <tr style=\"text-align: right;\">\n",
       "      <th></th>\n",
       "      <th>RAD</th>\n",
       "      <th>ANA</th>\n",
       "      <th>CBA</th>\n",
       "    </tr>\n",
       "  </thead>\n",
       "  <tbody>\n",
       "    <tr>\n",
       "      <th>0</th>\n",
       "      <td>8.0</td>\n",
       "      <td>8.0</td>\n",
       "      <td>8.5</td>\n",
       "    </tr>\n",
       "    <tr>\n",
       "      <th>1</th>\n",
       "      <td>3.2</td>\n",
       "      <td>4.3</td>\n",
       "      <td>5.0</td>\n",
       "    </tr>\n",
       "    <tr>\n",
       "      <th>2</th>\n",
       "      <td>7.9</td>\n",
       "      <td>7.1</td>\n",
       "      <td>3.5</td>\n",
       "    </tr>\n",
       "    <tr>\n",
       "      <th>3</th>\n",
       "      <td>7.3</td>\n",
       "      <td>7.8</td>\n",
       "      <td>8.0</td>\n",
       "    </tr>\n",
       "    <tr>\n",
       "      <th>4</th>\n",
       "      <td>8.6</td>\n",
       "      <td>8.0</td>\n",
       "      <td>9.0</td>\n",
       "    </tr>\n",
       "    <tr>\n",
       "      <th>5</th>\n",
       "      <td>4.0</td>\n",
       "      <td>6.0</td>\n",
       "      <td>5.5</td>\n",
       "    </tr>\n",
       "    <tr>\n",
       "      <th>6</th>\n",
       "      <td>7.3</td>\n",
       "      <td>7.8</td>\n",
       "      <td>7.8</td>\n",
       "    </tr>\n",
       "    <tr>\n",
       "      <th>7</th>\n",
       "      <td>4.5</td>\n",
       "      <td>5.6</td>\n",
       "      <td>7.7</td>\n",
       "    </tr>\n",
       "    <tr>\n",
       "      <th>8</th>\n",
       "      <td>4.8</td>\n",
       "      <td>7.0</td>\n",
       "      <td>7.2</td>\n",
       "    </tr>\n",
       "  </tbody>\n",
       "</table>\n",
       "</div>"
      ],
      "text/plain": [
       "   RAD  ANA  CBA\n",
       "0  8.0  8.0  8.5\n",
       "1  3.2  4.3  5.0\n",
       "2  7.9  7.1  3.5\n",
       "3  7.3  7.8  8.0\n",
       "4  8.6  8.0  9.0\n",
       "5  4.0  6.0  5.5\n",
       "6  7.3  7.8  7.8\n",
       "7  4.5  5.6  7.7\n",
       "8  4.8  7.0  7.2"
      ]
     },
     "execution_count": 184,
     "metadata": {},
     "output_type": "execute_result"
    }
   ],
   "source": [
    "cijfers.at[1, \"ANA\"] = 4.3\n",
    "cijfers.at[8, \"RAD\"] = 4.8\n",
    "cijfers"
   ]
  },
  {
   "cell_type": "markdown",
   "metadata": {},
   "source": [
    "De docent wil de studentgegevens ook aan het dataframe toevoegen.\n",
    "-\tLees tekstbestand: `blokAStudenten.csv` in, in een dataframe `studenten`. Let op dat je de juiste instellingen voor sep en header meegeeft.\n",
    "-\tLaat zien dat de gegevens correct zijn ingelezen."
   ]
  },
  {
   "cell_type": "code",
   "execution_count": 185,
   "metadata": {
    "tags": [
     "student"
    ]
   },
   "outputs": [
    {
     "data": {
      "text/html": [
       "<div>\n",
       "<style scoped>\n",
       "    .dataframe tbody tr th:only-of-type {\n",
       "        vertical-align: middle;\n",
       "    }\n",
       "\n",
       "    .dataframe tbody tr th {\n",
       "        vertical-align: top;\n",
       "    }\n",
       "\n",
       "    .dataframe thead th {\n",
       "        text-align: right;\n",
       "    }\n",
       "</style>\n",
       "<table border=\"1\" class=\"dataframe\">\n",
       "  <thead>\n",
       "    <tr style=\"text-align: right;\">\n",
       "      <th></th>\n",
       "      <th>Studentnr</th>\n",
       "      <th>Naam</th>\n",
       "      <th>Vooropleiding</th>\n",
       "    </tr>\n",
       "  </thead>\n",
       "  <tbody>\n",
       "    <tr>\n",
       "      <th>0</th>\n",
       "      <td>1502000</td>\n",
       "      <td>Jan Jansen</td>\n",
       "      <td>HAVO</td>\n",
       "    </tr>\n",
       "    <tr>\n",
       "      <th>1</th>\n",
       "      <td>1501677</td>\n",
       "      <td>Ali ElMoune</td>\n",
       "      <td>MBO</td>\n",
       "    </tr>\n",
       "    <tr>\n",
       "      <th>2</th>\n",
       "      <td>1503190</td>\n",
       "      <td>Bert de Graaf</td>\n",
       "      <td>HAVO</td>\n",
       "    </tr>\n",
       "    <tr>\n",
       "      <th>3</th>\n",
       "      <td>1506700</td>\n",
       "      <td>Koos Alberts</td>\n",
       "      <td>MBO</td>\n",
       "    </tr>\n",
       "    <tr>\n",
       "      <th>4</th>\n",
       "      <td>1504503</td>\n",
       "      <td>Willie Napoli</td>\n",
       "      <td>MBO</td>\n",
       "    </tr>\n",
       "    <tr>\n",
       "      <th>5</th>\n",
       "      <td>1507878</td>\n",
       "      <td>Jorrit Beeks</td>\n",
       "      <td>VWO</td>\n",
       "    </tr>\n",
       "    <tr>\n",
       "      <th>6</th>\n",
       "      <td>1502507</td>\n",
       "      <td>Frits Wielenga</td>\n",
       "      <td>HAVO</td>\n",
       "    </tr>\n",
       "    <tr>\n",
       "      <th>7</th>\n",
       "      <td>1503684</td>\n",
       "      <td>Cornee Nijsten</td>\n",
       "      <td>VWO</td>\n",
       "    </tr>\n",
       "    <tr>\n",
       "      <th>8</th>\n",
       "      <td>1503831</td>\n",
       "      <td>Sabine Honing</td>\n",
       "      <td>HAVO</td>\n",
       "    </tr>\n",
       "    <tr>\n",
       "      <th>9</th>\n",
       "      <td>1506001</td>\n",
       "      <td>George Belfore</td>\n",
       "      <td>HAVO</td>\n",
       "    </tr>\n",
       "  </tbody>\n",
       "</table>\n",
       "</div>"
      ],
      "text/plain": [
       "   Studentnr            Naam Vooropleiding\n",
       "0    1502000      Jan Jansen          HAVO\n",
       "1    1501677     Ali ElMoune           MBO\n",
       "2    1503190   Bert de Graaf          HAVO\n",
       "3    1506700    Koos Alberts           MBO\n",
       "4    1504503   Willie Napoli           MBO\n",
       "5    1507878    Jorrit Beeks           VWO\n",
       "6    1502507  Frits Wielenga          HAVO\n",
       "7    1503684  Cornee Nijsten           VWO\n",
       "8    1503831   Sabine Honing          HAVO\n",
       "9    1506001  George Belfore          HAVO"
      ]
     },
     "execution_count": 185,
     "metadata": {},
     "output_type": "execute_result"
    }
   ],
   "source": [
    "studenten = pd.read_csv(\"blokAStudenten.csv\", delimiter=\";\")\n",
    "studenten"
   ]
  },
  {
   "cell_type": "markdown",
   "metadata": {},
   "source": [
    "Nu gaan we ``studenten`` en ``cijfers`` samenvoegen tot een cijferslijst. We mogen er vanuitgaan dat de volgorde van beiden dezelfde index hebben (hier de rijwaarde 0 t/m 9).\n",
    "-\tCombineer de beide dataframes met behulp van `p.merge()`:\n",
    "    *\tJe kunt hier een inner join gebruiken.\n",
    "    *\tJe kunt van beide zijden de index gebruiken .\n",
    "-\tLaat zien dat de gegevens correct zijn samengevoegd tot één dataframe cijferlijst met de kolommen: `Studentnr`; `Naam`; `Vooropleiding`; `RAD`; `ANA`; en `CBA`."
   ]
  },
  {
   "cell_type": "code",
   "execution_count": 186,
   "metadata": {
    "tags": [
     "student"
    ]
   },
   "outputs": [
    {
     "data": {
      "text/html": [
       "<div>\n",
       "<style scoped>\n",
       "    .dataframe tbody tr th:only-of-type {\n",
       "        vertical-align: middle;\n",
       "    }\n",
       "\n",
       "    .dataframe tbody tr th {\n",
       "        vertical-align: top;\n",
       "    }\n",
       "\n",
       "    .dataframe thead th {\n",
       "        text-align: right;\n",
       "    }\n",
       "</style>\n",
       "<table border=\"1\" class=\"dataframe\">\n",
       "  <thead>\n",
       "    <tr style=\"text-align: right;\">\n",
       "      <th></th>\n",
       "      <th>Studentnr</th>\n",
       "      <th>Naam</th>\n",
       "      <th>Vooropleiding</th>\n",
       "      <th>RAD</th>\n",
       "      <th>ANA</th>\n",
       "      <th>CBA</th>\n",
       "    </tr>\n",
       "  </thead>\n",
       "  <tbody>\n",
       "    <tr>\n",
       "      <th>0</th>\n",
       "      <td>1502000</td>\n",
       "      <td>Jan Jansen</td>\n",
       "      <td>HAVO</td>\n",
       "      <td>8.0</td>\n",
       "      <td>8.0</td>\n",
       "      <td>8.5</td>\n",
       "    </tr>\n",
       "    <tr>\n",
       "      <th>1</th>\n",
       "      <td>1501677</td>\n",
       "      <td>Ali ElMoune</td>\n",
       "      <td>MBO</td>\n",
       "      <td>3.2</td>\n",
       "      <td>4.3</td>\n",
       "      <td>5.0</td>\n",
       "    </tr>\n",
       "    <tr>\n",
       "      <th>2</th>\n",
       "      <td>1503190</td>\n",
       "      <td>Bert de Graaf</td>\n",
       "      <td>HAVO</td>\n",
       "      <td>7.9</td>\n",
       "      <td>7.1</td>\n",
       "      <td>3.5</td>\n",
       "    </tr>\n",
       "    <tr>\n",
       "      <th>3</th>\n",
       "      <td>1506700</td>\n",
       "      <td>Koos Alberts</td>\n",
       "      <td>MBO</td>\n",
       "      <td>7.3</td>\n",
       "      <td>7.8</td>\n",
       "      <td>8.0</td>\n",
       "    </tr>\n",
       "    <tr>\n",
       "      <th>4</th>\n",
       "      <td>1504503</td>\n",
       "      <td>Willie Napoli</td>\n",
       "      <td>MBO</td>\n",
       "      <td>8.6</td>\n",
       "      <td>8.0</td>\n",
       "      <td>9.0</td>\n",
       "    </tr>\n",
       "    <tr>\n",
       "      <th>5</th>\n",
       "      <td>1507878</td>\n",
       "      <td>Jorrit Beeks</td>\n",
       "      <td>VWO</td>\n",
       "      <td>4.0</td>\n",
       "      <td>6.0</td>\n",
       "      <td>5.5</td>\n",
       "    </tr>\n",
       "    <tr>\n",
       "      <th>6</th>\n",
       "      <td>1502507</td>\n",
       "      <td>Frits Wielenga</td>\n",
       "      <td>HAVO</td>\n",
       "      <td>7.3</td>\n",
       "      <td>7.8</td>\n",
       "      <td>7.8</td>\n",
       "    </tr>\n",
       "    <tr>\n",
       "      <th>7</th>\n",
       "      <td>1503684</td>\n",
       "      <td>Cornee Nijsten</td>\n",
       "      <td>VWO</td>\n",
       "      <td>4.5</td>\n",
       "      <td>5.6</td>\n",
       "      <td>7.7</td>\n",
       "    </tr>\n",
       "    <tr>\n",
       "      <th>8</th>\n",
       "      <td>1503831</td>\n",
       "      <td>Sabine Honing</td>\n",
       "      <td>HAVO</td>\n",
       "      <td>4.8</td>\n",
       "      <td>7.0</td>\n",
       "      <td>7.2</td>\n",
       "    </tr>\n",
       "    <tr>\n",
       "      <th>9</th>\n",
       "      <td>1506001</td>\n",
       "      <td>George Belfore</td>\n",
       "      <td>HAVO</td>\n",
       "      <td>NaN</td>\n",
       "      <td>NaN</td>\n",
       "      <td>NaN</td>\n",
       "    </tr>\n",
       "  </tbody>\n",
       "</table>\n",
       "</div>"
      ],
      "text/plain": [
       "   Studentnr            Naam Vooropleiding  RAD  ANA  CBA\n",
       "0    1502000      Jan Jansen          HAVO  8.0  8.0  8.5\n",
       "1    1501677     Ali ElMoune           MBO  3.2  4.3  5.0\n",
       "2    1503190   Bert de Graaf          HAVO  7.9  7.1  3.5\n",
       "3    1506700    Koos Alberts           MBO  7.3  7.8  8.0\n",
       "4    1504503   Willie Napoli           MBO  8.6  8.0  9.0\n",
       "5    1507878    Jorrit Beeks           VWO  4.0  6.0  5.5\n",
       "6    1502507  Frits Wielenga          HAVO  7.3  7.8  7.8\n",
       "7    1503684  Cornee Nijsten           VWO  4.5  5.6  7.7\n",
       "8    1503831   Sabine Honing          HAVO  4.8  7.0  7.2\n",
       "9    1506001  George Belfore          HAVO  NaN  NaN  NaN"
      ]
     },
     "execution_count": 186,
     "metadata": {},
     "output_type": "execute_result"
    }
   ],
   "source": [
    "studenten = studenten.join(cijfers)\n",
    "studenten"
   ]
  },
  {
   "cell_type": "markdown",
   "metadata": {},
   "source": [
    "Het is handig om een dataframe een sprekende index te geven:\n",
    "-\tMaak `Studentnr` de rij-index. NB. Gebruik indien nodig de optie `inplace=True`."
   ]
  },
  {
   "cell_type": "code",
   "execution_count": 187,
   "metadata": {},
   "outputs": [
    {
     "data": {
      "text/html": [
       "<div>\n",
       "<style scoped>\n",
       "    .dataframe tbody tr th:only-of-type {\n",
       "        vertical-align: middle;\n",
       "    }\n",
       "\n",
       "    .dataframe tbody tr th {\n",
       "        vertical-align: top;\n",
       "    }\n",
       "\n",
       "    .dataframe thead th {\n",
       "        text-align: right;\n",
       "    }\n",
       "</style>\n",
       "<table border=\"1\" class=\"dataframe\">\n",
       "  <thead>\n",
       "    <tr style=\"text-align: right;\">\n",
       "      <th></th>\n",
       "      <th>Naam</th>\n",
       "      <th>Vooropleiding</th>\n",
       "      <th>RAD</th>\n",
       "      <th>ANA</th>\n",
       "      <th>CBA</th>\n",
       "    </tr>\n",
       "    <tr>\n",
       "      <th>Studentnr</th>\n",
       "      <th></th>\n",
       "      <th></th>\n",
       "      <th></th>\n",
       "      <th></th>\n",
       "      <th></th>\n",
       "    </tr>\n",
       "  </thead>\n",
       "  <tbody>\n",
       "    <tr>\n",
       "      <th>1502000</th>\n",
       "      <td>Jan Jansen</td>\n",
       "      <td>HAVO</td>\n",
       "      <td>8.0</td>\n",
       "      <td>8.0</td>\n",
       "      <td>8.5</td>\n",
       "    </tr>\n",
       "    <tr>\n",
       "      <th>1501677</th>\n",
       "      <td>Ali ElMoune</td>\n",
       "      <td>MBO</td>\n",
       "      <td>3.2</td>\n",
       "      <td>4.3</td>\n",
       "      <td>5.0</td>\n",
       "    </tr>\n",
       "    <tr>\n",
       "      <th>1503190</th>\n",
       "      <td>Bert de Graaf</td>\n",
       "      <td>HAVO</td>\n",
       "      <td>7.9</td>\n",
       "      <td>7.1</td>\n",
       "      <td>3.5</td>\n",
       "    </tr>\n",
       "    <tr>\n",
       "      <th>1506700</th>\n",
       "      <td>Koos Alberts</td>\n",
       "      <td>MBO</td>\n",
       "      <td>7.3</td>\n",
       "      <td>7.8</td>\n",
       "      <td>8.0</td>\n",
       "    </tr>\n",
       "    <tr>\n",
       "      <th>1504503</th>\n",
       "      <td>Willie Napoli</td>\n",
       "      <td>MBO</td>\n",
       "      <td>8.6</td>\n",
       "      <td>8.0</td>\n",
       "      <td>9.0</td>\n",
       "    </tr>\n",
       "    <tr>\n",
       "      <th>1507878</th>\n",
       "      <td>Jorrit Beeks</td>\n",
       "      <td>VWO</td>\n",
       "      <td>4.0</td>\n",
       "      <td>6.0</td>\n",
       "      <td>5.5</td>\n",
       "    </tr>\n",
       "    <tr>\n",
       "      <th>1502507</th>\n",
       "      <td>Frits Wielenga</td>\n",
       "      <td>HAVO</td>\n",
       "      <td>7.3</td>\n",
       "      <td>7.8</td>\n",
       "      <td>7.8</td>\n",
       "    </tr>\n",
       "    <tr>\n",
       "      <th>1503684</th>\n",
       "      <td>Cornee Nijsten</td>\n",
       "      <td>VWO</td>\n",
       "      <td>4.5</td>\n",
       "      <td>5.6</td>\n",
       "      <td>7.7</td>\n",
       "    </tr>\n",
       "    <tr>\n",
       "      <th>1503831</th>\n",
       "      <td>Sabine Honing</td>\n",
       "      <td>HAVO</td>\n",
       "      <td>4.8</td>\n",
       "      <td>7.0</td>\n",
       "      <td>7.2</td>\n",
       "    </tr>\n",
       "    <tr>\n",
       "      <th>1506001</th>\n",
       "      <td>George Belfore</td>\n",
       "      <td>HAVO</td>\n",
       "      <td>NaN</td>\n",
       "      <td>NaN</td>\n",
       "      <td>NaN</td>\n",
       "    </tr>\n",
       "  </tbody>\n",
       "</table>\n",
       "</div>"
      ],
      "text/plain": [
       "                     Naam Vooropleiding  RAD  ANA  CBA\n",
       "Studentnr                                             \n",
       "1502000        Jan Jansen          HAVO  8.0  8.0  8.5\n",
       "1501677       Ali ElMoune           MBO  3.2  4.3  5.0\n",
       "1503190     Bert de Graaf          HAVO  7.9  7.1  3.5\n",
       "1506700      Koos Alberts           MBO  7.3  7.8  8.0\n",
       "1504503     Willie Napoli           MBO  8.6  8.0  9.0\n",
       "1507878      Jorrit Beeks           VWO  4.0  6.0  5.5\n",
       "1502507    Frits Wielenga          HAVO  7.3  7.8  7.8\n",
       "1503684    Cornee Nijsten           VWO  4.5  5.6  7.7\n",
       "1503831     Sabine Honing          HAVO  4.8  7.0  7.2\n",
       "1506001    George Belfore          HAVO  NaN  NaN  NaN"
      ]
     },
     "execution_count": 187,
     "metadata": {},
     "output_type": "execute_result"
    }
   ],
   "source": [
    "studenten.set_index(\"Studentnr\", inplace=True)\n",
    "studenten"
   ]
  },
  {
   "cell_type": "markdown",
   "metadata": {},
   "source": [
    "De docent wil wat basisgegevens: minimum, maximum, gemiddelde van de cijfers weten. Het grote voordeel is dat numpy heel goed kan omgaan met de numerieke kolommen van een dataframe. Voorbeeld: het berekenen van het gemiddelde cijfer voor het vak ‘RAD’ kan met de opdracht: `np.mean(cijferlijst['RAD']`.\n",
    "-\tBepaal minimum, maximum en gemiddelde van alle cijfers.\n",
    "-\tBepaal minimum, maximum en gemiddelde van elk vak (3 getallen).\n",
    "-\tBepaal minimum, maximum en gemiddelde van elke student (10 getallen)."
   ]
  },
  {
   "cell_type": "code",
   "execution_count": 188,
   "metadata": {
    "tags": [
     "student"
    ]
   },
   "outputs": [
    {
     "name": "stdout",
     "output_type": "stream",
     "text": [
      "RAD    3.2\n",
      "ANA    4.3\n",
      "CBA    3.5\n",
      "dtype: float64\n",
      "RAD    8.6\n",
      "ANA    8.0\n",
      "CBA    9.0\n",
      "dtype: float64\n",
      "RAD    6.177778\n",
      "ANA    6.844444\n",
      "CBA    6.911111\n",
      "dtype: float64\n",
      "0    8.0\n",
      "1    3.2\n",
      "2    3.5\n",
      "3    7.3\n",
      "4    8.0\n",
      "5    4.0\n",
      "6    7.3\n",
      "7    4.5\n",
      "8    4.8\n",
      "dtype: float64\n",
      "0    8.5\n",
      "1    5.0\n",
      "2    7.9\n",
      "3    8.0\n",
      "4    9.0\n",
      "5    6.0\n",
      "6    7.8\n",
      "7    7.7\n",
      "8    7.2\n",
      "dtype: float64\n",
      "0    8.166667\n",
      "1    4.166667\n",
      "2    6.166667\n",
      "3    7.700000\n",
      "4    8.533333\n",
      "5    5.166667\n",
      "6    7.633333\n",
      "7    5.933333\n",
      "8    6.333333\n",
      "dtype: float64\n"
     ]
    }
   ],
   "source": [
    "print(cijfers.min())\n",
    "print(cijfers.max())\n",
    "print(cijfers.mean())\n",
    "\n",
    "print(cijfers.min(axis=1))\n",
    "print(cijfers.max(axis=1))\n",
    "print(cijfers.mean(axis=1))"
   ]
  },
  {
   "cell_type": "markdown",
   "metadata": {},
   "source": [
    "Er is een fout gemaakt bij de cijfers van het 1e vak (RAD). Iedere student krijgt 0.5 punt extra erbij.\n",
    "-\tDoe dit met één opdrachtregel."
   ]
  },
  {
   "cell_type": "code",
   "execution_count": 189,
   "metadata": {
    "tags": [
     "student"
    ]
   },
   "outputs": [
    {
     "data": {
      "text/html": [
       "<div>\n",
       "<style scoped>\n",
       "    .dataframe tbody tr th:only-of-type {\n",
       "        vertical-align: middle;\n",
       "    }\n",
       "\n",
       "    .dataframe tbody tr th {\n",
       "        vertical-align: top;\n",
       "    }\n",
       "\n",
       "    .dataframe thead th {\n",
       "        text-align: right;\n",
       "    }\n",
       "</style>\n",
       "<table border=\"1\" class=\"dataframe\">\n",
       "  <thead>\n",
       "    <tr style=\"text-align: right;\">\n",
       "      <th></th>\n",
       "      <th>Naam</th>\n",
       "      <th>Vooropleiding</th>\n",
       "      <th>RAD</th>\n",
       "      <th>ANA</th>\n",
       "      <th>CBA</th>\n",
       "    </tr>\n",
       "    <tr>\n",
       "      <th>Studentnr</th>\n",
       "      <th></th>\n",
       "      <th></th>\n",
       "      <th></th>\n",
       "      <th></th>\n",
       "      <th></th>\n",
       "    </tr>\n",
       "  </thead>\n",
       "  <tbody>\n",
       "    <tr>\n",
       "      <th>1502000</th>\n",
       "      <td>Jan Jansen</td>\n",
       "      <td>HAVO</td>\n",
       "      <td>8.5</td>\n",
       "      <td>8.0</td>\n",
       "      <td>8.5</td>\n",
       "    </tr>\n",
       "    <tr>\n",
       "      <th>1501677</th>\n",
       "      <td>Ali ElMoune</td>\n",
       "      <td>MBO</td>\n",
       "      <td>3.7</td>\n",
       "      <td>4.3</td>\n",
       "      <td>5.0</td>\n",
       "    </tr>\n",
       "    <tr>\n",
       "      <th>1503190</th>\n",
       "      <td>Bert de Graaf</td>\n",
       "      <td>HAVO</td>\n",
       "      <td>8.4</td>\n",
       "      <td>7.1</td>\n",
       "      <td>3.5</td>\n",
       "    </tr>\n",
       "    <tr>\n",
       "      <th>1506700</th>\n",
       "      <td>Koos Alberts</td>\n",
       "      <td>MBO</td>\n",
       "      <td>7.8</td>\n",
       "      <td>7.8</td>\n",
       "      <td>8.0</td>\n",
       "    </tr>\n",
       "    <tr>\n",
       "      <th>1504503</th>\n",
       "      <td>Willie Napoli</td>\n",
       "      <td>MBO</td>\n",
       "      <td>9.1</td>\n",
       "      <td>8.0</td>\n",
       "      <td>9.0</td>\n",
       "    </tr>\n",
       "    <tr>\n",
       "      <th>1507878</th>\n",
       "      <td>Jorrit Beeks</td>\n",
       "      <td>VWO</td>\n",
       "      <td>4.5</td>\n",
       "      <td>6.0</td>\n",
       "      <td>5.5</td>\n",
       "    </tr>\n",
       "    <tr>\n",
       "      <th>1502507</th>\n",
       "      <td>Frits Wielenga</td>\n",
       "      <td>HAVO</td>\n",
       "      <td>7.8</td>\n",
       "      <td>7.8</td>\n",
       "      <td>7.8</td>\n",
       "    </tr>\n",
       "    <tr>\n",
       "      <th>1503684</th>\n",
       "      <td>Cornee Nijsten</td>\n",
       "      <td>VWO</td>\n",
       "      <td>5.0</td>\n",
       "      <td>5.6</td>\n",
       "      <td>7.7</td>\n",
       "    </tr>\n",
       "    <tr>\n",
       "      <th>1503831</th>\n",
       "      <td>Sabine Honing</td>\n",
       "      <td>HAVO</td>\n",
       "      <td>5.3</td>\n",
       "      <td>7.0</td>\n",
       "      <td>7.2</td>\n",
       "    </tr>\n",
       "    <tr>\n",
       "      <th>1506001</th>\n",
       "      <td>George Belfore</td>\n",
       "      <td>HAVO</td>\n",
       "      <td>NaN</td>\n",
       "      <td>NaN</td>\n",
       "      <td>NaN</td>\n",
       "    </tr>\n",
       "  </tbody>\n",
       "</table>\n",
       "</div>"
      ],
      "text/plain": [
       "                     Naam Vooropleiding  RAD  ANA  CBA\n",
       "Studentnr                                             \n",
       "1502000        Jan Jansen          HAVO  8.5  8.0  8.5\n",
       "1501677       Ali ElMoune           MBO  3.7  4.3  5.0\n",
       "1503190     Bert de Graaf          HAVO  8.4  7.1  3.5\n",
       "1506700      Koos Alberts           MBO  7.8  7.8  8.0\n",
       "1504503     Willie Napoli           MBO  9.1  8.0  9.0\n",
       "1507878      Jorrit Beeks           VWO  4.5  6.0  5.5\n",
       "1502507    Frits Wielenga          HAVO  7.8  7.8  7.8\n",
       "1503684    Cornee Nijsten           VWO  5.0  5.6  7.7\n",
       "1503831     Sabine Honing          HAVO  5.3  7.0  7.2\n",
       "1506001    George Belfore          HAVO  NaN  NaN  NaN"
      ]
     },
     "execution_count": 189,
     "metadata": {},
     "output_type": "execute_result"
    }
   ],
   "source": [
    "studenten[[\"RAD\"]] += 0.5\n",
    "studenten"
   ]
  },
  {
   "cell_type": "markdown",
   "metadata": {},
   "source": [
    "De docent wil graag weten of er verschil in studentprestaties is afhankelijk van de vooropleiding. \n",
    "-\tToon voor elk vak het vooropleiding groepsgemiddelde.\n",
    "-\tWat is je conclusie ?"
   ]
  },
  {
   "cell_type": "code",
   "execution_count": 200,
   "metadata": {
    "tags": [
     "student"
    ]
   },
   "outputs": [
    {
     "name": "stdout",
     "output_type": "stream",
     "text": [
      "MBO gemiddelde totaal: 20.9\n",
      "HAVO gemiddelde totaal: 21.725\n",
      "VWO gemiddelde totaal: 17.15\n"
     ]
    }
   ],
   "source": [
    "s_copy = studenten[[\"RAD\", \"ANA\", \"CBA\"]]\n",
    "mbo = s_copy[studenten[\"Vooropleiding\"] == \"MBO\"]\n",
    "havo = s_copy[studenten[\"Vooropleiding\"] == \"HAVO\"]\n",
    "vwo = s_copy[studenten[\"Vooropleiding\"] == \"VWO\"]\n",
    "\n",
    "mbo_mean = mbo.mean().sum()\n",
    "havo_mean = havo.mean().sum()\n",
    "vwo_mean = vwo.mean().sum()\n",
    "\n",
    "print(f\"MBO gemiddelde totaal: {mbo_mean}\")\n",
    "print(f\"HAVO gemiddelde totaal: {havo_mean}\")\n",
    "print(f\"VWO gemiddelde totaal: {vwo_mean}\")"
   ]
  },
  {
   "cell_type": "markdown",
   "metadata": {
    "tags": [
     "student"
    ]
   },
   "source": [
    "Conclusie:\n",
    "HAVO > MBO > VWO"
   ]
  },
  {
   "cell_type": "markdown",
   "metadata": {},
   "source": [
    "## Opdracht 4 datetime\n",
    "\n",
    "Maak een Jupyter notebook waarin je met Pandas de volgende casus realiseert: een storingsmedewerker wil graag onderzoeken hoe het weer geweest is op 1 Januari 2017. Hiervoor vraagt hij bij het KNMI de weergegevens op van drie meetstations.\n",
    "\n",
    "Aanvullende bronnen:\n",
    "- http://chrisalbon.com/python/pandas_time_series_basics.html\n",
    "- http://chrisalbon.com/python/date_and_time_basics.html\n",
    "- http://chrisalbon.com/python/pandas_group_by_time.html "
   ]
  },
  {
   "cell_type": "code",
   "execution_count": 266,
   "metadata": {},
   "outputs": [],
   "source": [
    "# Aanvullende imports\n",
    "import datetime as dt\n",
    "import matplotlib.pyplot as pyplot\n",
    "\n",
    "# De data die we gaan gebruiken.\n",
    "data = {'meetpunt': ['De Bilt','Maastricht', 'Leeuwarden',\n",
    "                     'De Bilt','Maastricht', 'Leeuwarden',\n",
    "                     'De Bilt','Maastricht', 'Leeuwarden',\n",
    "                     'De Bilt','Maastricht', 'Leeuwarden'],\n",
    "        'datum': ['2017-01-01 13:00:05.069722', '2017-01-01 13:00:01.119994', '2017-01-01 13:00:07.178768',\n",
    "                  '2017-01-02 13:00:01.043200', '2017-01-02 13:00:03.119401', '2017-01-02 13:00:03.876898',\n",
    "                  '2017-01-03 13:00:03.043450', '2017-01-03 13:00:02.669401', '2017-01-03 13:00:01.321898',\n",
    "                  '2017-01-04 13:00:04.042015', '2017-01-04 13:00:04.321564', '2017-01-04 13:00:04.394866'],\n",
    "        'temperatuur': [-0.3, 1.9, 0.8,\n",
    "                        1.8, 7.1, 5.7,\n",
    "                        2.9, 7.3, 5.1,\n",
    "                        0.1, 6.8, 2.1,]}"
   ]
  },
  {
   "cell_type": "markdown",
   "metadata": {},
   "source": [
    "Bewerk de data zodat deze netjes in een dataframe komt.\n",
    "-\tMaak een dataframe met kolommen: ‘datum’, ‘temperatuur, ‘meetpunt’.\n",
    "-\tMaak van de datum kolom een kolom met datatype datetime."
   ]
  },
  {
   "cell_type": "code",
   "execution_count": 267,
   "metadata": {
    "tags": [
     "student"
    ]
   },
   "outputs": [
    {
     "data": {
      "text/html": [
       "<div>\n",
       "<style scoped>\n",
       "    .dataframe tbody tr th:only-of-type {\n",
       "        vertical-align: middle;\n",
       "    }\n",
       "\n",
       "    .dataframe tbody tr th {\n",
       "        vertical-align: top;\n",
       "    }\n",
       "\n",
       "    .dataframe thead th {\n",
       "        text-align: right;\n",
       "    }\n",
       "</style>\n",
       "<table border=\"1\" class=\"dataframe\">\n",
       "  <thead>\n",
       "    <tr style=\"text-align: right;\">\n",
       "      <th></th>\n",
       "      <th>datum</th>\n",
       "      <th>temperatuur</th>\n",
       "      <th>meetpunt</th>\n",
       "    </tr>\n",
       "  </thead>\n",
       "  <tbody>\n",
       "    <tr>\n",
       "      <th>0</th>\n",
       "      <td>2017-01-01 13:00:05.069722</td>\n",
       "      <td>-0.3</td>\n",
       "      <td>De Bilt</td>\n",
       "    </tr>\n",
       "    <tr>\n",
       "      <th>1</th>\n",
       "      <td>2017-01-01 13:00:01.119994</td>\n",
       "      <td>1.9</td>\n",
       "      <td>Maastricht</td>\n",
       "    </tr>\n",
       "    <tr>\n",
       "      <th>2</th>\n",
       "      <td>2017-01-01 13:00:07.178768</td>\n",
       "      <td>0.8</td>\n",
       "      <td>Leeuwarden</td>\n",
       "    </tr>\n",
       "    <tr>\n",
       "      <th>3</th>\n",
       "      <td>2017-01-02 13:00:01.043200</td>\n",
       "      <td>1.8</td>\n",
       "      <td>De Bilt</td>\n",
       "    </tr>\n",
       "    <tr>\n",
       "      <th>4</th>\n",
       "      <td>2017-01-02 13:00:03.119401</td>\n",
       "      <td>7.1</td>\n",
       "      <td>Maastricht</td>\n",
       "    </tr>\n",
       "    <tr>\n",
       "      <th>5</th>\n",
       "      <td>2017-01-02 13:00:03.876898</td>\n",
       "      <td>5.7</td>\n",
       "      <td>Leeuwarden</td>\n",
       "    </tr>\n",
       "    <tr>\n",
       "      <th>6</th>\n",
       "      <td>2017-01-03 13:00:03.043450</td>\n",
       "      <td>2.9</td>\n",
       "      <td>De Bilt</td>\n",
       "    </tr>\n",
       "    <tr>\n",
       "      <th>7</th>\n",
       "      <td>2017-01-03 13:00:02.669401</td>\n",
       "      <td>7.3</td>\n",
       "      <td>Maastricht</td>\n",
       "    </tr>\n",
       "    <tr>\n",
       "      <th>8</th>\n",
       "      <td>2017-01-03 13:00:01.321898</td>\n",
       "      <td>5.1</td>\n",
       "      <td>Leeuwarden</td>\n",
       "    </tr>\n",
       "    <tr>\n",
       "      <th>9</th>\n",
       "      <td>2017-01-04 13:00:04.042015</td>\n",
       "      <td>0.1</td>\n",
       "      <td>De Bilt</td>\n",
       "    </tr>\n",
       "    <tr>\n",
       "      <th>10</th>\n",
       "      <td>2017-01-04 13:00:04.321564</td>\n",
       "      <td>6.8</td>\n",
       "      <td>Maastricht</td>\n",
       "    </tr>\n",
       "    <tr>\n",
       "      <th>11</th>\n",
       "      <td>2017-01-04 13:00:04.394866</td>\n",
       "      <td>2.1</td>\n",
       "      <td>Leeuwarden</td>\n",
       "    </tr>\n",
       "  </tbody>\n",
       "</table>\n",
       "</div>"
      ],
      "text/plain": [
       "                        datum  temperatuur    meetpunt\n",
       "0  2017-01-01 13:00:05.069722         -0.3     De Bilt\n",
       "1  2017-01-01 13:00:01.119994          1.9  Maastricht\n",
       "2  2017-01-01 13:00:07.178768          0.8  Leeuwarden\n",
       "3  2017-01-02 13:00:01.043200          1.8     De Bilt\n",
       "4  2017-01-02 13:00:03.119401          7.1  Maastricht\n",
       "5  2017-01-02 13:00:03.876898          5.7  Leeuwarden\n",
       "6  2017-01-03 13:00:03.043450          2.9     De Bilt\n",
       "7  2017-01-03 13:00:02.669401          7.3  Maastricht\n",
       "8  2017-01-03 13:00:01.321898          5.1  Leeuwarden\n",
       "9  2017-01-04 13:00:04.042015          0.1     De Bilt\n",
       "10 2017-01-04 13:00:04.321564          6.8  Maastricht\n",
       "11 2017-01-04 13:00:04.394866          2.1  Leeuwarden"
      ]
     },
     "execution_count": 267,
     "metadata": {},
     "output_type": "execute_result"
    }
   ],
   "source": [
    "df = pd.DataFrame(data, columns=[\"datum\", \"temperatuur\", \"meetpunt\"])\n",
    "df[\"datum\"] = pd.to_datetime(df[\"datum\"])\n",
    "df"
   ]
  },
  {
   "cell_type": "markdown",
   "metadata": {},
   "source": [
    "Doe de volgende analyse op de datum gegevens.\n",
    "-\tHaal de eerste datumwaarde uit de tabel.\n",
    "-\tBepaal van de eerste datumwaarden: jaar, maand, dag, uur, minuut en seconde.\n",
    "-\tBepaal het tijdsverschil tussen de 1e en laatste waarde.\n",
    "-\tBepaal van het tijdsverschil het aantal dagen.\n",
    "-\tBepaal van het tijdsverschil het aantal uren."
   ]
  },
  {
   "cell_type": "code",
   "execution_count": 268,
   "metadata": {
    "tags": [
     "student"
    ]
   },
   "outputs": [
    {
     "name": "stdout",
     "output_type": "stream",
     "text": [
      "2017 1 1 13 0 5\n",
      "2 days 23:59:59.325144\n"
     ]
    }
   ],
   "source": [
    "d = df[\"datum\"].loc[0]\n",
    "d_year = d.year\n",
    "d_month = d.month\n",
    "d_day = d.day\n",
    "d_hour = d.hour\n",
    "d_min = d.minute\n",
    "d_sec = d.second\n",
    "\n",
    "print(d_year, d_month, d_day, d_hour, d_min, d_sec)\n",
    "print(df[\"datum\"].iloc[-1] - df[\"datum\"].iloc[0])"
   ]
  },
  {
   "cell_type": "markdown",
   "metadata": {},
   "source": [
    "De storingsmedewerker wil graag de volgende gegevens van dagen. Daarom is het handig om de dataframe te voorzien van een index. Voer dan de volgende opdrachten uit en verklaar deze.\n",
    "-\tMaak van de datum kolom een index.\n",
    "-\tDe temperaturen op 1 januari.\n",
    "-\tDe temperaturen na 3 januari.\n",
    "-\tDe temperatuur gemiddeld per dag .\n",
    "-\tLeg nu zelf uit wat de functie shift() doet.\n",
    "-\tHaal de datum kolom index weer weg."
   ]
  },
  {
   "cell_type": "code",
   "execution_count": 269,
   "metadata": {
    "tags": [
     "student"
    ]
   },
   "outputs": [
    {
     "data": {
      "text/html": [
       "<div>\n",
       "<style scoped>\n",
       "    .dataframe tbody tr th:only-of-type {\n",
       "        vertical-align: middle;\n",
       "    }\n",
       "\n",
       "    .dataframe tbody tr th {\n",
       "        vertical-align: top;\n",
       "    }\n",
       "\n",
       "    .dataframe thead th {\n",
       "        text-align: right;\n",
       "    }\n",
       "</style>\n",
       "<table border=\"1\" class=\"dataframe\">\n",
       "  <thead>\n",
       "    <tr style=\"text-align: right;\">\n",
       "      <th></th>\n",
       "      <th>temperatuur</th>\n",
       "    </tr>\n",
       "  </thead>\n",
       "  <tbody>\n",
       "    <tr>\n",
       "      <th>0</th>\n",
       "      <td>-0.3</td>\n",
       "    </tr>\n",
       "    <tr>\n",
       "      <th>1</th>\n",
       "      <td>1.9</td>\n",
       "    </tr>\n",
       "    <tr>\n",
       "      <th>2</th>\n",
       "      <td>0.8</td>\n",
       "    </tr>\n",
       "    <tr>\n",
       "      <th>3</th>\n",
       "      <td>1.8</td>\n",
       "    </tr>\n",
       "    <tr>\n",
       "      <th>4</th>\n",
       "      <td>7.1</td>\n",
       "    </tr>\n",
       "    <tr>\n",
       "      <th>5</th>\n",
       "      <td>5.7</td>\n",
       "    </tr>\n",
       "    <tr>\n",
       "      <th>6</th>\n",
       "      <td>2.9</td>\n",
       "    </tr>\n",
       "    <tr>\n",
       "      <th>7</th>\n",
       "      <td>7.3</td>\n",
       "    </tr>\n",
       "    <tr>\n",
       "      <th>8</th>\n",
       "      <td>5.1</td>\n",
       "    </tr>\n",
       "    <tr>\n",
       "      <th>9</th>\n",
       "      <td>0.1</td>\n",
       "    </tr>\n",
       "    <tr>\n",
       "      <th>10</th>\n",
       "      <td>6.8</td>\n",
       "    </tr>\n",
       "    <tr>\n",
       "      <th>11</th>\n",
       "      <td>2.1</td>\n",
       "    </tr>\n",
       "  </tbody>\n",
       "</table>\n",
       "</div>"
      ],
      "text/plain": [
       "    temperatuur\n",
       "0          -0.3\n",
       "1           1.9\n",
       "2           0.8\n",
       "3           1.8\n",
       "4           7.1\n",
       "5           5.7\n",
       "6           2.9\n",
       "7           7.3\n",
       "8           5.1\n",
       "9           0.1\n",
       "10          6.8\n",
       "11          2.1"
      ]
     },
     "execution_count": 269,
     "metadata": {},
     "output_type": "execute_result"
    }
   ],
   "source": [
    "df.set_index(\"datum\")\n",
    "df[[\"temperatuur\"]]"
   ]
  },
  {
   "cell_type": "code",
   "execution_count": 270,
   "metadata": {},
   "outputs": [
    {
     "data": {
      "text/plain": [
       "0   -0.3\n",
       "1    1.9\n",
       "2    0.8\n",
       "Name: temperatuur, dtype: float64"
      ]
     },
     "execution_count": 270,
     "metadata": {},
     "output_type": "execute_result"
    }
   ],
   "source": [
    "df[df[\"datum\"] < pd.Timestamp(\"2017-01-02\")][\"temperatuur\"]"
   ]
  },
  {
   "cell_type": "code",
   "execution_count": 271,
   "metadata": {},
   "outputs": [
    {
     "data": {
      "text/plain": [
       "6     2.9\n",
       "7     7.3\n",
       "8     5.1\n",
       "9     0.1\n",
       "10    6.8\n",
       "11    2.1\n",
       "Name: temperatuur, dtype: float64"
      ]
     },
     "execution_count": 271,
     "metadata": {},
     "output_type": "execute_result"
    }
   ],
   "source": [
    "df[df[\"datum\"] > pd.Timestamp(\"2017-01-03\")][\"temperatuur\"]"
   ]
  },
  {
   "cell_type": "code",
   "execution_count": 272,
   "metadata": {},
   "outputs": [
    {
     "data": {
      "text/plain": [
       "temperatuur    3.441667\n",
       "dtype: float64"
      ]
     },
     "execution_count": 272,
     "metadata": {},
     "output_type": "execute_result"
    }
   ],
   "source": [
    "df[[\"temperatuur\"]].mean()"
   ]
  },
  {
   "cell_type": "code",
   "execution_count": 280,
   "metadata": {},
   "outputs": [
    {
     "data": {
      "text/html": [
       "<div>\n",
       "<style scoped>\n",
       "    .dataframe tbody tr th:only-of-type {\n",
       "        vertical-align: middle;\n",
       "    }\n",
       "\n",
       "    .dataframe tbody tr th {\n",
       "        vertical-align: top;\n",
       "    }\n",
       "\n",
       "    .dataframe thead th {\n",
       "        text-align: right;\n",
       "    }\n",
       "</style>\n",
       "<table border=\"1\" class=\"dataframe\">\n",
       "  <thead>\n",
       "    <tr style=\"text-align: right;\">\n",
       "      <th></th>\n",
       "      <th>index</th>\n",
       "      <th>datum</th>\n",
       "      <th>temperatuur</th>\n",
       "      <th>meetpunt</th>\n",
       "    </tr>\n",
       "  </thead>\n",
       "  <tbody>\n",
       "    <tr>\n",
       "      <th>0</th>\n",
       "      <td>0</td>\n",
       "      <td>2017-01-01 13:00:05.069722</td>\n",
       "      <td>-0.3</td>\n",
       "      <td>De Bilt</td>\n",
       "    </tr>\n",
       "    <tr>\n",
       "      <th>1</th>\n",
       "      <td>1</td>\n",
       "      <td>2017-01-01 13:00:01.119994</td>\n",
       "      <td>1.9</td>\n",
       "      <td>Maastricht</td>\n",
       "    </tr>\n",
       "    <tr>\n",
       "      <th>2</th>\n",
       "      <td>2</td>\n",
       "      <td>2017-01-01 13:00:07.178768</td>\n",
       "      <td>0.8</td>\n",
       "      <td>Leeuwarden</td>\n",
       "    </tr>\n",
       "    <tr>\n",
       "      <th>3</th>\n",
       "      <td>3</td>\n",
       "      <td>2017-01-02 13:00:01.043200</td>\n",
       "      <td>1.8</td>\n",
       "      <td>De Bilt</td>\n",
       "    </tr>\n",
       "    <tr>\n",
       "      <th>4</th>\n",
       "      <td>4</td>\n",
       "      <td>2017-01-02 13:00:03.119401</td>\n",
       "      <td>7.1</td>\n",
       "      <td>Maastricht</td>\n",
       "    </tr>\n",
       "    <tr>\n",
       "      <th>5</th>\n",
       "      <td>5</td>\n",
       "      <td>2017-01-02 13:00:03.876898</td>\n",
       "      <td>5.7</td>\n",
       "      <td>Leeuwarden</td>\n",
       "    </tr>\n",
       "    <tr>\n",
       "      <th>6</th>\n",
       "      <td>6</td>\n",
       "      <td>2017-01-03 13:00:03.043450</td>\n",
       "      <td>2.9</td>\n",
       "      <td>De Bilt</td>\n",
       "    </tr>\n",
       "    <tr>\n",
       "      <th>7</th>\n",
       "      <td>7</td>\n",
       "      <td>2017-01-03 13:00:02.669401</td>\n",
       "      <td>7.3</td>\n",
       "      <td>Maastricht</td>\n",
       "    </tr>\n",
       "    <tr>\n",
       "      <th>8</th>\n",
       "      <td>8</td>\n",
       "      <td>2017-01-03 13:00:01.321898</td>\n",
       "      <td>5.1</td>\n",
       "      <td>Leeuwarden</td>\n",
       "    </tr>\n",
       "    <tr>\n",
       "      <th>9</th>\n",
       "      <td>9</td>\n",
       "      <td>2017-01-04 13:00:04.042015</td>\n",
       "      <td>0.1</td>\n",
       "      <td>De Bilt</td>\n",
       "    </tr>\n",
       "    <tr>\n",
       "      <th>10</th>\n",
       "      <td>10</td>\n",
       "      <td>2017-01-04 13:00:04.321564</td>\n",
       "      <td>6.8</td>\n",
       "      <td>Maastricht</td>\n",
       "    </tr>\n",
       "    <tr>\n",
       "      <th>11</th>\n",
       "      <td>11</td>\n",
       "      <td>2017-01-04 13:00:04.394866</td>\n",
       "      <td>2.1</td>\n",
       "      <td>Leeuwarden</td>\n",
       "    </tr>\n",
       "  </tbody>\n",
       "</table>\n",
       "</div>"
      ],
      "text/plain": [
       "    index                      datum  temperatuur    meetpunt\n",
       "0       0 2017-01-01 13:00:05.069722         -0.3     De Bilt\n",
       "1       1 2017-01-01 13:00:01.119994          1.9  Maastricht\n",
       "2       2 2017-01-01 13:00:07.178768          0.8  Leeuwarden\n",
       "3       3 2017-01-02 13:00:01.043200          1.8     De Bilt\n",
       "4       4 2017-01-02 13:00:03.119401          7.1  Maastricht\n",
       "5       5 2017-01-02 13:00:03.876898          5.7  Leeuwarden\n",
       "6       6 2017-01-03 13:00:03.043450          2.9     De Bilt\n",
       "7       7 2017-01-03 13:00:02.669401          7.3  Maastricht\n",
       "8       8 2017-01-03 13:00:01.321898          5.1  Leeuwarden\n",
       "9       9 2017-01-04 13:00:04.042015          0.1     De Bilt\n",
       "10     10 2017-01-04 13:00:04.321564          6.8  Maastricht\n",
       "11     11 2017-01-04 13:00:04.394866          2.1  Leeuwarden"
      ]
     },
     "execution_count": 280,
     "metadata": {},
     "output_type": "execute_result"
    }
   ],
   "source": [
    "df.reset_index(drop=True, inplace=True)\n",
    "df"
   ]
  },
  {
   "cell_type": "code",
   "execution_count": 279,
   "metadata": {},
   "outputs": [
    {
     "data": {
      "text/html": [
       "<div>\n",
       "<style scoped>\n",
       "    .dataframe tbody tr th:only-of-type {\n",
       "        vertical-align: middle;\n",
       "    }\n",
       "\n",
       "    .dataframe tbody tr th {\n",
       "        vertical-align: top;\n",
       "    }\n",
       "\n",
       "    .dataframe thead th {\n",
       "        text-align: right;\n",
       "    }\n",
       "</style>\n",
       "<table border=\"1\" class=\"dataframe\">\n",
       "  <thead>\n",
       "    <tr style=\"text-align: right;\">\n",
       "      <th></th>\n",
       "      <th>index</th>\n",
       "      <th>datum</th>\n",
       "      <th>temperatuur</th>\n",
       "      <th>meetpunt</th>\n",
       "    </tr>\n",
       "  </thead>\n",
       "  <tbody>\n",
       "    <tr>\n",
       "      <th>0</th>\n",
       "      <td>NaN</td>\n",
       "      <td>NaT</td>\n",
       "      <td>NaN</td>\n",
       "      <td>None</td>\n",
       "    </tr>\n",
       "    <tr>\n",
       "      <th>1</th>\n",
       "      <td>0.0</td>\n",
       "      <td>2017-01-01 13:00:05.069722</td>\n",
       "      <td>-0.3</td>\n",
       "      <td>De Bilt</td>\n",
       "    </tr>\n",
       "    <tr>\n",
       "      <th>2</th>\n",
       "      <td>1.0</td>\n",
       "      <td>2017-01-01 13:00:01.119994</td>\n",
       "      <td>1.9</td>\n",
       "      <td>Maastricht</td>\n",
       "    </tr>\n",
       "    <tr>\n",
       "      <th>3</th>\n",
       "      <td>2.0</td>\n",
       "      <td>2017-01-01 13:00:07.178768</td>\n",
       "      <td>0.8</td>\n",
       "      <td>Leeuwarden</td>\n",
       "    </tr>\n",
       "    <tr>\n",
       "      <th>4</th>\n",
       "      <td>3.0</td>\n",
       "      <td>2017-01-02 13:00:01.043200</td>\n",
       "      <td>1.8</td>\n",
       "      <td>De Bilt</td>\n",
       "    </tr>\n",
       "    <tr>\n",
       "      <th>5</th>\n",
       "      <td>4.0</td>\n",
       "      <td>2017-01-02 13:00:03.119401</td>\n",
       "      <td>7.1</td>\n",
       "      <td>Maastricht</td>\n",
       "    </tr>\n",
       "    <tr>\n",
       "      <th>6</th>\n",
       "      <td>5.0</td>\n",
       "      <td>2017-01-02 13:00:03.876898</td>\n",
       "      <td>5.7</td>\n",
       "      <td>Leeuwarden</td>\n",
       "    </tr>\n",
       "    <tr>\n",
       "      <th>7</th>\n",
       "      <td>6.0</td>\n",
       "      <td>2017-01-03 13:00:03.043450</td>\n",
       "      <td>2.9</td>\n",
       "      <td>De Bilt</td>\n",
       "    </tr>\n",
       "    <tr>\n",
       "      <th>8</th>\n",
       "      <td>7.0</td>\n",
       "      <td>2017-01-03 13:00:02.669401</td>\n",
       "      <td>7.3</td>\n",
       "      <td>Maastricht</td>\n",
       "    </tr>\n",
       "    <tr>\n",
       "      <th>9</th>\n",
       "      <td>8.0</td>\n",
       "      <td>2017-01-03 13:00:01.321898</td>\n",
       "      <td>5.1</td>\n",
       "      <td>Leeuwarden</td>\n",
       "    </tr>\n",
       "    <tr>\n",
       "      <th>10</th>\n",
       "      <td>9.0</td>\n",
       "      <td>2017-01-04 13:00:04.042015</td>\n",
       "      <td>0.1</td>\n",
       "      <td>De Bilt</td>\n",
       "    </tr>\n",
       "    <tr>\n",
       "      <th>11</th>\n",
       "      <td>10.0</td>\n",
       "      <td>2017-01-04 13:00:04.321564</td>\n",
       "      <td>6.8</td>\n",
       "      <td>Maastricht</td>\n",
       "    </tr>\n",
       "  </tbody>\n",
       "</table>\n",
       "</div>"
      ],
      "text/plain": [
       "    index                      datum  temperatuur    meetpunt\n",
       "0     NaN                        NaT          NaN        None\n",
       "1     0.0 2017-01-01 13:00:05.069722         -0.3     De Bilt\n",
       "2     1.0 2017-01-01 13:00:01.119994          1.9  Maastricht\n",
       "3     2.0 2017-01-01 13:00:07.178768          0.8  Leeuwarden\n",
       "4     3.0 2017-01-02 13:00:01.043200          1.8     De Bilt\n",
       "5     4.0 2017-01-02 13:00:03.119401          7.1  Maastricht\n",
       "6     5.0 2017-01-02 13:00:03.876898          5.7  Leeuwarden\n",
       "7     6.0 2017-01-03 13:00:03.043450          2.9     De Bilt\n",
       "8     7.0 2017-01-03 13:00:02.669401          7.3  Maastricht\n",
       "9     8.0 2017-01-03 13:00:01.321898          5.1  Leeuwarden\n",
       "10    9.0 2017-01-04 13:00:04.042015          0.1     De Bilt\n",
       "11   10.0 2017-01-04 13:00:04.321564          6.8  Maastricht"
      ]
     },
     "execution_count": 279,
     "metadata": {},
     "output_type": "execute_result"
    }
   ],
   "source": [
    "df.shift()  # dit voegt een extra rij toe"
   ]
  }
 ],
 "metadata": {
  "celltoolbar": "Tags",
  "kernelspec": {
   "display_name": "Python 3 (ipykernel)",
   "language": "python",
   "name": "python3"
  },
  "language_info": {
   "codemirror_mode": {
    "name": "ipython",
    "version": 3
   },
   "file_extension": ".py",
   "mimetype": "text/x-python",
   "name": "python",
   "nbconvert_exporter": "python",
   "pygments_lexer": "ipython3",
   "version": "3.11.2"
  }
 },
 "nbformat": 4,
 "nbformat_minor": 4
}
