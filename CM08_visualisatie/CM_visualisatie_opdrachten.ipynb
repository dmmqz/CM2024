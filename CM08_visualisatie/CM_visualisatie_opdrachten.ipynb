{
 "cells": [
  {
   "cell_type": "markdown",
   "metadata": {},
   "source": [
    "# Visualisatie - opdrachten\n",
    "\n",
    "In dit notebook vind je twee opdrachten.\n",
    "- <a href=\"#vis_opdracht1\"> Opdracht 1 </a>  maak je ter voorbereiding van het college.\n",
    "- <a href=\"#vis_opdracht2\"> Opdracht 2 </a> is voor in het college."
   ]
  },
  {
   "cell_type": "markdown",
   "metadata": {},
   "source": [
    "<a id=\"vis_opdracht1\"></a>\n",
    "## Opdracht 1"
   ]
  },
  {
   "cell_type": "markdown",
   "metadata": {},
   "source": [
    "Maak onderstaande figuur met matplotlib:\n",
    "\n",
    "<img src=\"vis_opdracht1.jpg\" alt=\"Verkoop Oost-Azie\" />"
   ]
  },
  {
   "cell_type": "markdown",
   "metadata": {},
   "source": [
    "Merk op:\n",
    "\n",
    "- De cijfers 1 t/m 7 hoef je niet te plotten :-)\n",
    "- Maak gebruik van de functionaliteiten van matplotlib: ga dus niet zelf balkjes en lijntjes tekenen in Python!!\n",
    "- Je kunt matplotlib op twee manieren gebruiken: als script of met objecten. Kies er een. Of doe ze allebei."
   ]
  },
  {
   "cell_type": "code",
   "execution_count": 2,
   "metadata": {},
   "outputs": [],
   "source": [
    "import numpy as np\n",
    "import matplotlib.pyplot as plt"
   ]
  },
  {
   "cell_type": "code",
   "execution_count": 4,
   "metadata": {
    "tags": [
     "student"
    ]
   },
   "outputs": [],
   "source": [
    "# Data\n",
    "data = np.array([[25000, 17500, 15000, 24000], [22000, 25000, 21000, 28000], [25000, 23000, 23500, 30000]])\n",
    "data_quarter = data.T"
   ]
  },
  {
   "cell_type": "markdown",
   "metadata": {},
   "source": [
    "#### Methode 1. Script"
   ]
  },
  {
   "cell_type": "code",
   "execution_count": 9,
   "metadata": {},
   "outputs": [
    {
     "data": {
      "image/png": "[encoded data removed]",
      "text/plain": [
       "<Figure size 1000x600 with 1 Axes>"
      ]
     },
     "metadata": {},
     "output_type": "display_data"
    }
   ],
   "source": [
    "labels = [\"2005\", \"2006\", \"2007\"]\n",
    "quarters = [\"Q1\", \"Q2\", \"Q3\", \"Q4\"]\n",
    "\n",
    "bar_width = 0.2  # Width of each bar\n",
    "\n",
    "bar_positions = np.arange(4)\n",
    "\n",
    "plt.figure(figsize=(10, 6))\n",
    "for i in range(len(labels)):\n",
    "    plt.bar(bar_positions + i * bar_width, data_quarter[:, i], width=bar_width, label=labels[i])\n",
    "\n",
    "plt.title(\"Verkoop Oost-Azie\")\n",
    "plt.xlabel(\"Verkoop per kwartaal\")\n",
    "plt.xticks(bar_positions + bar_width, quarters)\n",
    "plt.legend()\n",
    "plt.show()"
   ]
  },
  {
   "cell_type": "markdown",
   "metadata": {},
   "source": [
    "#### Methode 2. Object-georienteerd"
   ]
  },
  {
   "cell_type": "code",
   "execution_count": 10,
   "metadata": {
    "tags": [
     "student"
    ]
   },
   "outputs": [],
   "source": [
    "class OostAziePlot:\n",
    "    def __init__(self, data):\n",
    "        pass"
   ]
  },
  {
   "cell_type": "markdown",
   "metadata": {},
   "source": [
    "<a id=\"vis_opdracht2\"></a>\n",
    "## Opdracht 2 - vervolg toetsuitslagen"
   ]
  },
  {
   "cell_type": "markdown",
   "metadata": {},
   "source": [
    "Tijdens college 4 hebben we gekeken naar de toetsuitslagen van een eerstejaarsvak. We gaan hier nu mee verder gaan de theorie van correlatie en visualisatie in de praktijk brengen.\n",
    "\n",
    "Hiervoor introduceren we twee aanvullende datasets:\n",
    "1. De toetsuitslagen van een tweede eerstejaarsvak: Computer Systems and Networks (CSN)\n",
    "2. De klassenindeling\n",
    "\n"
   ]
  },
  {
   "cell_type": "code",
   "execution_count": null,
   "metadata": {},
   "outputs": [],
   "source": [
    "# Bibliotheken\n",
    "from datetime import datetime\n",
    "import pandas as pd\n",
    "import numpy as np\n",
    "import scipy as sp\n",
    "from scipy import stats\n",
    "import matplotlib.pyplot as plt\n",
    "\n",
    "%matplotlib inline"
   ]
  },
  {
   "cell_type": "markdown",
   "metadata": {},
   "source": [
    "### Voorbereidingen\n",
    "\n",
    "Voordat we starten met de extra opgaven, moeten we eerst de datasets inladen en de acties op de dataset van de vorige keer opnieuw uitvoeren."
   ]
  },
  {
   "cell_type": "code",
   "execution_count": null,
   "metadata": {},
   "outputs": [],
   "source": [
    "# Naast de cijferlijst van PROG, laden we ook de cijferlijst van CSN in\n",
    "uitslag_csn = pd.read_excel(\"uitslag_csn.xlsx\")\n",
    "uitslag_prog = pd.read_excel(\"uitslag_prog.xlsx\")"
   ]
  },
  {
   "cell_type": "code",
   "execution_count": null,
   "metadata": {},
   "outputs": [],
   "source": [
    "# Code voor het hernoemen\n",
    "columns=lambda x: x[1:]\n",
    "\n",
    "replacements = {\"Score.\" + str(i) : \"Score.\" + str(i+1)  for i in range(1, 40)}\n",
    "replacements[\"Score\"] = \"Score.1\"\n",
    "\n",
    "# Hernoemen van de columns van het dataframe\n",
    "uitslag_prog.rename(columns=replacements, inplace=True)\n",
    "uitslag_csn.rename(columns=replacements, inplace=True)\n",
    "\n",
    "# Studentnummer herformatten\n",
    "uitslag_prog['StudentNummer'] = uitslag_prog['StudentNummer'].astype('category')\n",
    "uitslag_csn['StudentNummer'] = uitslag_csn['StudentNummer'].astype('category')\n",
    "\n",
    "# Eindtijd herformatten\n",
    "uitslag_prog['Eindtijd'] = pd.to_datetime(uitslag_prog['Eindtijd'])\n",
    "uitslag_csn['Eindtijd'] = pd.to_datetime(uitslag_csn['Eindtijd'])\n",
    "\n",
    "# Eindcijfers toevoegen\n",
    "uitslag_prog['Cijfer'] = (9/30)*(uitslag_prog.sum(1) - 10) + 1\n",
    "uitslag_prog['Eindcijfer'] = np.maximum( uitslag_prog['Cijfer'], [1]*uitslag_prog.shape[0] )\n",
    "uitslag_csn['Cijfer'] = (9/30)*(uitslag_csn.sum(1) - 10) + 1\n",
    "uitslag_csn['Eindcijfer'] = np.maximum( uitslag_csn['Cijfer'], [1]*uitslag_csn.shape[0] )"
   ]
  },
  {
   "cell_type": "markdown",
   "metadata": {},
   "source": [
    "### Correlatie tussen CSN en PROG\n",
    "We gaan kijken of er een correlatie is tussen de resultaten van studenten voor CSN en PROG. Is het zo dat studenten altijd een laag / gemiddeld / hoog cijfer halen voor zowel CSN als PROG? Of is er geen samenhang?\n",
    "\n",
    "\n",
    "Bepaal of er een correlatie tussen de cijfers van CSN en PROG? Geef dat ook visueel weer. **Tip**: zorg ervoor dat studenten die niet aan beide toetsen hebben deelgenomen worden genegeerd. "
   ]
  },
  {
   "cell_type": "code",
   "execution_count": null,
   "metadata": {
    "tags": [
     "student"
    ]
   },
   "outputs": [],
   "source": []
  },
  {
   "cell_type": "code",
   "execution_count": null,
   "metadata": {
    "tags": [
     "student"
    ]
   },
   "outputs": [],
   "source": []
  },
  {
   "cell_type": "markdown",
   "metadata": {},
   "source": [
    "\n",
    "Hoeveel procent van de variabiliteit tussen de cijfers kunnen we verklaren met een linear verband?\n"
   ]
  },
  {
   "cell_type": "code",
   "execution_count": null,
   "metadata": {
    "tags": [
     "student"
    ]
   },
   "outputs": [],
   "source": []
  },
  {
   "cell_type": "markdown",
   "metadata": {},
   "source": [
    "### Klasgegevens\n",
    "Er is een derde databestand beschikbaar met voor elke student diens klas. Extra informatie betekent extra mogelijkheden voor leuke analyses.\n",
    "\n",
    "We moeten eerst de klassenlijst importeren en koppelen aan het uitslagen dataframe."
   ]
  },
  {
   "cell_type": "code",
   "execution_count": null,
   "metadata": {},
   "outputs": [],
   "source": [
    "# De klassenlijst laden we eerst in\n",
    "\n",
    "klassenlijst = pd.read_excel(\"klassenindeling.xlsx\")\n",
    "klassenlijst.head()"
   ]
  },
  {
   "cell_type": "code",
   "execution_count": null,
   "metadata": {},
   "outputs": [],
   "source": [
    "# Er zitten een aantal studenten dubbel in de dataset, die gaan we eerst verwijderen\n",
    "\n",
    "klassenlijst.drop_duplicates(subset='StudentNummer',inplace=True)"
   ]
  },
  {
   "cell_type": "code",
   "execution_count": null,
   "metadata": {
    "scrolled": true
   },
   "outputs": [],
   "source": [
    "# Omdat we hier ons uitslagen dataframe gaan samenvoegen met de klassenlijst, is het handig om tot een\n",
    "# gezamelijke index te komen. In ons geval is  StudentNummer een geschikte kandidaat.\n",
    "\n",
    "uitslagen = uitslagen.set_index('StudentNummer')\n",
    "klassenlijst = klassenlijst.set_index('StudentNummer')"
   ]
  },
  {
   "cell_type": "code",
   "execution_count": null,
   "metadata": {},
   "outputs": [],
   "source": [
    "# We mergen de twee datasets tot een nieuwe dataset. \n",
    "# Helaas gaan hier een aantal studenten verloren: waarschijnlijk zijn er herkansers voor wie geen klas bekend is \n",
    "\n",
    "uitslagen_klas = pd.merge(uitslagen, klassenlijst, how='inner', on='StudentNummer') "
   ]
  },
  {
   "cell_type": "markdown",
   "metadata": {},
   "source": [
    "\n",
    "Een van de docenten vraagt zich af welke klas het *beste* is.\n",
    "\n",
    "Maak een visualisatie waarmee in **één oogopslag** kunt zien welke klas het beste gescoord heeft op CSN én PROG.\n",
    "\n",
    "**Tip:** denk eerst goed na *welk* type visualisatie hier het meest geschikt voor is, voordat je gaat knallen met MatplotLib...! "
   ]
  },
  {
   "cell_type": "code",
   "execution_count": null,
   "metadata": {
    "tags": [
     "student"
    ]
   },
   "outputs": [],
   "source": []
  },
  {
   "cell_type": "code",
   "execution_count": null,
   "metadata": {
    "tags": [
     "student"
    ]
   },
   "outputs": [],
   "source": []
  },
  {
   "cell_type": "markdown",
   "metadata": {},
   "source": [
    "\n",
    "Een van de docenten vindt het correlatiecoëfficient aan de lage kant. Hij vraagt zich af of er klassen zijn waar het coëfficient hoger is.\n",
    "\n",
    "Maak een **interactieve** visualisatie waarmee de correlatie tussen de attributen `Eindcijfer_csn` en `Eindcijfer_prog` wordt getoond voor een of meerdere klassen. De visualisatie bij opgave 6.a was gebaseerd op de gehele dataset, de nieuwe visualisatie moet het mogelijk maken om een of meerdere klassen te selecteren en daarvoor de correlatie te tonen.\n",
    "\n",
    "**Tip:** gebruik hiervoor HoloViews en de bokeh extension"
   ]
  },
  {
   "cell_type": "code",
   "execution_count": null,
   "metadata": {},
   "outputs": [],
   "source": [
    "import holoviews as hv\n",
    "hv.extension('bokeh')"
   ]
  }
 ],
 "metadata": {
  "celltoolbar": "Tags",
  "kernelspec": {
   "display_name": "Python 3 (ipykernel)",
   "language": "python",
   "name": "python3"
  },
  "language_info": {
   "codemirror_mode": {
    "name": "ipython",
    "version": 3
   },
   "file_extension": ".py",
   "mimetype": "text/x-python",
   "name": "python",
   "nbconvert_exporter": "python",
   "pygments_lexer": "ipython3",
   "version": "3.12.6"
  }
 },
 "nbformat": 4,
 "nbformat_minor": 4
}
